{
 "cells": [
  {
   "cell_type": "markdown",
   "metadata": {},
   "source": [
    "# Funciones\n",
    "-----------"
   ]
  },
  {
   "cell_type": "markdown",
   "metadata": {},
   "source": [
    "Deben crear 6 funciones para los endpoints que se consumirán en la API, recuerden que deben tener un decorador por cada una (@app.get(‘/’)).\n",
    "<br>\n",
    "<br>\n",
    "<br>"
   ]
  },
  {
   "cell_type": "markdown",
   "metadata": {},
   "source": [
    "Antes de empezar a crear las funciones hay que cargar las bibliotecas y el CSV necesario para poder trabajar"
   ]
  },
  {
   "cell_type": "code",
   "execution_count": 202,
   "metadata": {},
   "outputs": [],
   "source": [
    "import pandas as pd"
   ]
  },
  {
   "cell_type": "code",
   "execution_count": 203,
   "metadata": {},
   "outputs": [],
   "source": [
    "df = pd.read_csv(\"movies_transformado.csv\")"
   ]
  },
  {
   "cell_type": "code",
   "execution_count": 204,
   "metadata": {},
   "outputs": [
    {
     "data": {
      "text/html": [
       "<div>\n",
       "<style scoped>\n",
       "    .dataframe tbody tr th:only-of-type {\n",
       "        vertical-align: middle;\n",
       "    }\n",
       "\n",
       "    .dataframe tbody tr th {\n",
       "        vertical-align: top;\n",
       "    }\n",
       "\n",
       "    .dataframe thead th {\n",
       "        text-align: right;\n",
       "    }\n",
       "</style>\n",
       "<table border=\"1\" class=\"dataframe\">\n",
       "  <thead>\n",
       "    <tr style=\"text-align: right;\">\n",
       "      <th></th>\n",
       "      <th>budget</th>\n",
       "      <th>genres</th>\n",
       "      <th>id</th>\n",
       "      <th>original_language</th>\n",
       "      <th>overview</th>\n",
       "      <th>popularity</th>\n",
       "      <th>production_companies</th>\n",
       "      <th>production_countries</th>\n",
       "      <th>release_date</th>\n",
       "      <th>revenue</th>\n",
       "      <th>runtime</th>\n",
       "      <th>spoken_languages</th>\n",
       "      <th>status</th>\n",
       "      <th>tagline</th>\n",
       "      <th>title</th>\n",
       "      <th>vote_average</th>\n",
       "      <th>vote_count</th>\n",
       "      <th>belongs_to_collection_name</th>\n",
       "      <th>release_year</th>\n",
       "      <th>return</th>\n",
       "      <th>director</th>\n",
       "    </tr>\n",
       "  </thead>\n",
       "  <tbody>\n",
       "    <tr>\n",
       "      <th>0</th>\n",
       "      <td>30000000</td>\n",
       "      <td>['Animation', 'Comedy', 'Family']</td>\n",
       "      <td>862</td>\n",
       "      <td>en</td>\n",
       "      <td>Led by Woody, Andy's toys live happily in his ...</td>\n",
       "      <td>21.946943</td>\n",
       "      <td>['Pixar Animation Studios']</td>\n",
       "      <td>['United States of America']</td>\n",
       "      <td>1995-10-30</td>\n",
       "      <td>373554033.0</td>\n",
       "      <td>81.0</td>\n",
       "      <td>['English']</td>\n",
       "      <td>Released</td>\n",
       "      <td>NaN</td>\n",
       "      <td>Toy Story</td>\n",
       "      <td>7.7</td>\n",
       "      <td>5415.0</td>\n",
       "      <td>Toy Story Collection</td>\n",
       "      <td>1995</td>\n",
       "      <td>12.451801</td>\n",
       "      <td>John Lasseter</td>\n",
       "    </tr>\n",
       "    <tr>\n",
       "      <th>1</th>\n",
       "      <td>65000000</td>\n",
       "      <td>['Adventure', 'Fantasy', 'Family']</td>\n",
       "      <td>8844</td>\n",
       "      <td>en</td>\n",
       "      <td>When siblings Judy and Peter discover an encha...</td>\n",
       "      <td>17.015539</td>\n",
       "      <td>['TriStar Pictures', 'Teitler Film', 'Intersco...</td>\n",
       "      <td>['United States of America']</td>\n",
       "      <td>1995-12-15</td>\n",
       "      <td>262797249.0</td>\n",
       "      <td>104.0</td>\n",
       "      <td>['English', 'Français']</td>\n",
       "      <td>Released</td>\n",
       "      <td>Roll the dice and unleash the excitement!</td>\n",
       "      <td>Jumanji</td>\n",
       "      <td>6.9</td>\n",
       "      <td>2413.0</td>\n",
       "      <td>NaN</td>\n",
       "      <td>1995</td>\n",
       "      <td>4.043035</td>\n",
       "      <td>Joe Johnston</td>\n",
       "    </tr>\n",
       "    <tr>\n",
       "      <th>2</th>\n",
       "      <td>0</td>\n",
       "      <td>['Romance', 'Comedy']</td>\n",
       "      <td>15602</td>\n",
       "      <td>en</td>\n",
       "      <td>A family wedding reignites the ancient feud be...</td>\n",
       "      <td>11.712900</td>\n",
       "      <td>['Warner Bros.', 'Lancaster Gate']</td>\n",
       "      <td>['United States of America']</td>\n",
       "      <td>1995-12-22</td>\n",
       "      <td>0.0</td>\n",
       "      <td>101.0</td>\n",
       "      <td>['English']</td>\n",
       "      <td>Released</td>\n",
       "      <td>Still Yelling. Still Fighting. Still Ready for...</td>\n",
       "      <td>Grumpier Old Men</td>\n",
       "      <td>6.5</td>\n",
       "      <td>92.0</td>\n",
       "      <td>Grumpy Old Men Collection</td>\n",
       "      <td>1995</td>\n",
       "      <td>0.000000</td>\n",
       "      <td>Howard Deutch</td>\n",
       "    </tr>\n",
       "    <tr>\n",
       "      <th>3</th>\n",
       "      <td>16000000</td>\n",
       "      <td>['Comedy', 'Drama', 'Romance']</td>\n",
       "      <td>31357</td>\n",
       "      <td>en</td>\n",
       "      <td>Cheated on, mistreated and stepped on, the wom...</td>\n",
       "      <td>3.859495</td>\n",
       "      <td>['Twentieth Century Fox Film Corporation']</td>\n",
       "      <td>['United States of America']</td>\n",
       "      <td>1995-12-22</td>\n",
       "      <td>81452156.0</td>\n",
       "      <td>127.0</td>\n",
       "      <td>['English']</td>\n",
       "      <td>Released</td>\n",
       "      <td>Friends are the people who let you be yourself...</td>\n",
       "      <td>Waiting to Exhale</td>\n",
       "      <td>6.1</td>\n",
       "      <td>34.0</td>\n",
       "      <td>NaN</td>\n",
       "      <td>1995</td>\n",
       "      <td>5.090760</td>\n",
       "      <td>Forest Whitaker</td>\n",
       "    </tr>\n",
       "    <tr>\n",
       "      <th>4</th>\n",
       "      <td>0</td>\n",
       "      <td>['Comedy']</td>\n",
       "      <td>11862</td>\n",
       "      <td>en</td>\n",
       "      <td>Just when George Banks has recovered from his ...</td>\n",
       "      <td>8.387519</td>\n",
       "      <td>['Sandollar Productions', 'Touchstone Pictures']</td>\n",
       "      <td>['United States of America']</td>\n",
       "      <td>1995-02-10</td>\n",
       "      <td>76578911.0</td>\n",
       "      <td>106.0</td>\n",
       "      <td>['English']</td>\n",
       "      <td>Released</td>\n",
       "      <td>Just When His World Is Back To Normal... He's ...</td>\n",
       "      <td>Father of the Bride Part II</td>\n",
       "      <td>5.7</td>\n",
       "      <td>173.0</td>\n",
       "      <td>Father of the Bride Collection</td>\n",
       "      <td>1995</td>\n",
       "      <td>0.000000</td>\n",
       "      <td>Charles Shyer</td>\n",
       "    </tr>\n",
       "    <tr>\n",
       "      <th>...</th>\n",
       "      <td>...</td>\n",
       "      <td>...</td>\n",
       "      <td>...</td>\n",
       "      <td>...</td>\n",
       "      <td>...</td>\n",
       "      <td>...</td>\n",
       "      <td>...</td>\n",
       "      <td>...</td>\n",
       "      <td>...</td>\n",
       "      <td>...</td>\n",
       "      <td>...</td>\n",
       "      <td>...</td>\n",
       "      <td>...</td>\n",
       "      <td>...</td>\n",
       "      <td>...</td>\n",
       "      <td>...</td>\n",
       "      <td>...</td>\n",
       "      <td>...</td>\n",
       "      <td>...</td>\n",
       "      <td>...</td>\n",
       "      <td>...</td>\n",
       "    </tr>\n",
       "    <tr>\n",
       "      <th>45446</th>\n",
       "      <td>0</td>\n",
       "      <td>['Drama', 'Action', 'Romance']</td>\n",
       "      <td>30840</td>\n",
       "      <td>en</td>\n",
       "      <td>Yet another version of the classic epic, with ...</td>\n",
       "      <td>5.683753</td>\n",
       "      <td>['Westdeutscher Rundfunk (WDR)', 'Working Titl...</td>\n",
       "      <td>['Canada', 'Germany', 'United Kingdom', 'Unite...</td>\n",
       "      <td>1991-05-13</td>\n",
       "      <td>0.0</td>\n",
       "      <td>104.0</td>\n",
       "      <td>['English']</td>\n",
       "      <td>Released</td>\n",
       "      <td>NaN</td>\n",
       "      <td>Robin Hood</td>\n",
       "      <td>5.7</td>\n",
       "      <td>26.0</td>\n",
       "      <td>NaN</td>\n",
       "      <td>1991</td>\n",
       "      <td>0.000000</td>\n",
       "      <td>John Irvin</td>\n",
       "    </tr>\n",
       "    <tr>\n",
       "      <th>45447</th>\n",
       "      <td>0</td>\n",
       "      <td>['Drama']</td>\n",
       "      <td>111109</td>\n",
       "      <td>tl</td>\n",
       "      <td>An artist struggles to finish his work while a...</td>\n",
       "      <td>0.178241</td>\n",
       "      <td>['Sine Olivia']</td>\n",
       "      <td>['Philippines']</td>\n",
       "      <td>2011-11-17</td>\n",
       "      <td>0.0</td>\n",
       "      <td>360.0</td>\n",
       "      <td>['']</td>\n",
       "      <td>Released</td>\n",
       "      <td>NaN</td>\n",
       "      <td>Century of Birthing</td>\n",
       "      <td>9.0</td>\n",
       "      <td>3.0</td>\n",
       "      <td>NaN</td>\n",
       "      <td>2011</td>\n",
       "      <td>0.000000</td>\n",
       "      <td>Lav Diaz</td>\n",
       "    </tr>\n",
       "    <tr>\n",
       "      <th>45448</th>\n",
       "      <td>0</td>\n",
       "      <td>['Action', 'Drama', 'Thriller']</td>\n",
       "      <td>67758</td>\n",
       "      <td>en</td>\n",
       "      <td>When one of her hits goes wrong, a professiona...</td>\n",
       "      <td>0.903007</td>\n",
       "      <td>['American World Pictures']</td>\n",
       "      <td>['United States of America']</td>\n",
       "      <td>2003-08-01</td>\n",
       "      <td>0.0</td>\n",
       "      <td>90.0</td>\n",
       "      <td>['English']</td>\n",
       "      <td>Released</td>\n",
       "      <td>A deadly game of wits.</td>\n",
       "      <td>Betrayal</td>\n",
       "      <td>3.8</td>\n",
       "      <td>6.0</td>\n",
       "      <td>NaN</td>\n",
       "      <td>2003</td>\n",
       "      <td>0.000000</td>\n",
       "      <td>Mark L. Lester</td>\n",
       "    </tr>\n",
       "    <tr>\n",
       "      <th>45449</th>\n",
       "      <td>0</td>\n",
       "      <td>[]</td>\n",
       "      <td>227506</td>\n",
       "      <td>en</td>\n",
       "      <td>In a small town live two brothers, one a minis...</td>\n",
       "      <td>0.003503</td>\n",
       "      <td>['Yermoliev']</td>\n",
       "      <td>['Russia']</td>\n",
       "      <td>1917-10-21</td>\n",
       "      <td>0.0</td>\n",
       "      <td>87.0</td>\n",
       "      <td>[]</td>\n",
       "      <td>Released</td>\n",
       "      <td>NaN</td>\n",
       "      <td>Satan Triumphant</td>\n",
       "      <td>0.0</td>\n",
       "      <td>0.0</td>\n",
       "      <td>NaN</td>\n",
       "      <td>1917</td>\n",
       "      <td>0.000000</td>\n",
       "      <td>Yakov Protazanov</td>\n",
       "    </tr>\n",
       "    <tr>\n",
       "      <th>45450</th>\n",
       "      <td>0</td>\n",
       "      <td>[]</td>\n",
       "      <td>461257</td>\n",
       "      <td>en</td>\n",
       "      <td>50 years after decriminalisation of homosexual...</td>\n",
       "      <td>0.163015</td>\n",
       "      <td>[]</td>\n",
       "      <td>['United Kingdom']</td>\n",
       "      <td>2017-06-09</td>\n",
       "      <td>0.0</td>\n",
       "      <td>75.0</td>\n",
       "      <td>['English']</td>\n",
       "      <td>Released</td>\n",
       "      <td>NaN</td>\n",
       "      <td>Queerama</td>\n",
       "      <td>0.0</td>\n",
       "      <td>0.0</td>\n",
       "      <td>NaN</td>\n",
       "      <td>2017</td>\n",
       "      <td>0.000000</td>\n",
       "      <td>Daisy Asquith</td>\n",
       "    </tr>\n",
       "  </tbody>\n",
       "</table>\n",
       "<p>45451 rows × 21 columns</p>\n",
       "</div>"
      ],
      "text/plain": [
       "         budget                              genres      id original_language  \\\n",
       "0      30000000   ['Animation', 'Comedy', 'Family']     862                en   \n",
       "1      65000000  ['Adventure', 'Fantasy', 'Family']    8844                en   \n",
       "2             0               ['Romance', 'Comedy']   15602                en   \n",
       "3      16000000      ['Comedy', 'Drama', 'Romance']   31357                en   \n",
       "4             0                          ['Comedy']   11862                en   \n",
       "...         ...                                 ...     ...               ...   \n",
       "45446         0      ['Drama', 'Action', 'Romance']   30840                en   \n",
       "45447         0                           ['Drama']  111109                tl   \n",
       "45448         0     ['Action', 'Drama', 'Thriller']   67758                en   \n",
       "45449         0                                  []  227506                en   \n",
       "45450         0                                  []  461257                en   \n",
       "\n",
       "                                                overview  popularity  \\\n",
       "0      Led by Woody, Andy's toys live happily in his ...   21.946943   \n",
       "1      When siblings Judy and Peter discover an encha...   17.015539   \n",
       "2      A family wedding reignites the ancient feud be...   11.712900   \n",
       "3      Cheated on, mistreated and stepped on, the wom...    3.859495   \n",
       "4      Just when George Banks has recovered from his ...    8.387519   \n",
       "...                                                  ...         ...   \n",
       "45446  Yet another version of the classic epic, with ...    5.683753   \n",
       "45447  An artist struggles to finish his work while a...    0.178241   \n",
       "45448  When one of her hits goes wrong, a professiona...    0.903007   \n",
       "45449  In a small town live two brothers, one a minis...    0.003503   \n",
       "45450  50 years after decriminalisation of homosexual...    0.163015   \n",
       "\n",
       "                                    production_companies  \\\n",
       "0                            ['Pixar Animation Studios']   \n",
       "1      ['TriStar Pictures', 'Teitler Film', 'Intersco...   \n",
       "2                     ['Warner Bros.', 'Lancaster Gate']   \n",
       "3             ['Twentieth Century Fox Film Corporation']   \n",
       "4       ['Sandollar Productions', 'Touchstone Pictures']   \n",
       "...                                                  ...   \n",
       "45446  ['Westdeutscher Rundfunk (WDR)', 'Working Titl...   \n",
       "45447                                    ['Sine Olivia']   \n",
       "45448                        ['American World Pictures']   \n",
       "45449                                      ['Yermoliev']   \n",
       "45450                                                 []   \n",
       "\n",
       "                                    production_countries release_date  \\\n",
       "0                           ['United States of America']   1995-10-30   \n",
       "1                           ['United States of America']   1995-12-15   \n",
       "2                           ['United States of America']   1995-12-22   \n",
       "3                           ['United States of America']   1995-12-22   \n",
       "4                           ['United States of America']   1995-02-10   \n",
       "...                                                  ...          ...   \n",
       "45446  ['Canada', 'Germany', 'United Kingdom', 'Unite...   1991-05-13   \n",
       "45447                                    ['Philippines']   2011-11-17   \n",
       "45448                       ['United States of America']   2003-08-01   \n",
       "45449                                         ['Russia']   1917-10-21   \n",
       "45450                                 ['United Kingdom']   2017-06-09   \n",
       "\n",
       "           revenue  runtime         spoken_languages    status  \\\n",
       "0      373554033.0     81.0              ['English']  Released   \n",
       "1      262797249.0    104.0  ['English', 'Français']  Released   \n",
       "2              0.0    101.0              ['English']  Released   \n",
       "3       81452156.0    127.0              ['English']  Released   \n",
       "4       76578911.0    106.0              ['English']  Released   \n",
       "...            ...      ...                      ...       ...   \n",
       "45446          0.0    104.0              ['English']  Released   \n",
       "45447          0.0    360.0                     ['']  Released   \n",
       "45448          0.0     90.0              ['English']  Released   \n",
       "45449          0.0     87.0                       []  Released   \n",
       "45450          0.0     75.0              ['English']  Released   \n",
       "\n",
       "                                                 tagline  \\\n",
       "0                                                    NaN   \n",
       "1              Roll the dice and unleash the excitement!   \n",
       "2      Still Yelling. Still Fighting. Still Ready for...   \n",
       "3      Friends are the people who let you be yourself...   \n",
       "4      Just When His World Is Back To Normal... He's ...   \n",
       "...                                                  ...   \n",
       "45446                                                NaN   \n",
       "45447                                                NaN   \n",
       "45448                             A deadly game of wits.   \n",
       "45449                                                NaN   \n",
       "45450                                                NaN   \n",
       "\n",
       "                             title  vote_average  vote_count  \\\n",
       "0                        Toy Story           7.7      5415.0   \n",
       "1                          Jumanji           6.9      2413.0   \n",
       "2                 Grumpier Old Men           6.5        92.0   \n",
       "3                Waiting to Exhale           6.1        34.0   \n",
       "4      Father of the Bride Part II           5.7       173.0   \n",
       "...                            ...           ...         ...   \n",
       "45446                   Robin Hood           5.7        26.0   \n",
       "45447          Century of Birthing           9.0         3.0   \n",
       "45448                     Betrayal           3.8         6.0   \n",
       "45449             Satan Triumphant           0.0         0.0   \n",
       "45450                     Queerama           0.0         0.0   \n",
       "\n",
       "           belongs_to_collection_name  release_year     return  \\\n",
       "0                Toy Story Collection          1995  12.451801   \n",
       "1                                 NaN          1995   4.043035   \n",
       "2           Grumpy Old Men Collection          1995   0.000000   \n",
       "3                                 NaN          1995   5.090760   \n",
       "4      Father of the Bride Collection          1995   0.000000   \n",
       "...                               ...           ...        ...   \n",
       "45446                             NaN          1991   0.000000   \n",
       "45447                             NaN          2011   0.000000   \n",
       "45448                             NaN          2003   0.000000   \n",
       "45449                             NaN          1917   0.000000   \n",
       "45450                             NaN          2017   0.000000   \n",
       "\n",
       "               director  \n",
       "0         John Lasseter  \n",
       "1          Joe Johnston  \n",
       "2         Howard Deutch  \n",
       "3       Forest Whitaker  \n",
       "4         Charles Shyer  \n",
       "...                 ...  \n",
       "45446        John Irvin  \n",
       "45447          Lav Diaz  \n",
       "45448    Mark L. Lester  \n",
       "45449  Yakov Protazanov  \n",
       "45450     Daisy Asquith  \n",
       "\n",
       "[45451 rows x 21 columns]"
      ]
     },
     "execution_count": 204,
     "metadata": {},
     "output_type": "execute_result"
    }
   ],
   "source": [
    "df"
   ]
  },
  {
   "cell_type": "markdown",
   "metadata": {},
   "source": [
    "--------------------"
   ]
  },
  {
   "cell_type": "markdown",
   "metadata": {},
   "source": [
    "1) def **peliculas_idioma( *`Idioma`: str* )**:\n",
    "    Se ingresa un idioma (como están escritos en el dataset, no hay que traducirlos!). Debe devolver la cantidad de películas producidas en ese idioma.\n",
    "\n",
    "&nbsp;&nbsp;&nbsp;&nbsp;&nbsp;&nbsp;&nbsp;&nbsp;&nbsp;&nbsp;&nbsp;&nbsp;&nbsp;&nbsp;&nbsp;&nbsp;&nbsp;&nbsp;&nbsp;&nbsp;Ejemplo de retorno: *`X` cantidad de películas fueron estrenadas en `idioma`*"
   ]
  },
  {
   "cell_type": "code",
   "execution_count": 205,
   "metadata": {},
   "outputs": [],
   "source": [
    "def peliculas_idioma( Idioma: str ):\n",
    "    '''\n",
    "    Se ingresa un idioma. Debe devolver la cantidad de películas producidas en ese idioma.\n",
    "        Ejemplo de retorno: X cantidad de películas fueron estrenadas en idioma\n",
    "    '''\n",
    "    idioma_deseado = df[df['original_language'] == Idioma]\n",
    "    num_peliculas = len(idioma_deseado)\n",
    "    return {f\"{num_peliculas} peliculas se lanzaron en {Idioma}\"}"
   ]
  },
  {
   "cell_type": "code",
   "execution_count": 206,
   "metadata": {},
   "outputs": [
    {
     "data": {
      "text/plain": [
       "{'991 peliculas se lanzaron en es'}"
      ]
     },
     "execution_count": 206,
     "metadata": {},
     "output_type": "execute_result"
    }
   ],
   "source": [
    "peliculas_idioma(\"es\")"
   ]
  },
  {
   "cell_type": "markdown",
   "metadata": {},
   "source": [
    "--------\n",
    "2) def **peliculas_duracion( *`Pelicula`: str* )**:\n",
    "    Se ingresa una pelicula. Debe devolver la duracion y el año.\n",
    "\n",
    "&nbsp;&nbsp;&nbsp;&nbsp;&nbsp;&nbsp;&nbsp;&nbsp;&nbsp;&nbsp;&nbsp;&nbsp;&nbsp;&nbsp;&nbsp;&nbsp;&nbsp;&nbsp;&nbsp;&nbsp;Ejemplo de retorno: *`X` . Duración: `x`. Año: `xx`*"
   ]
  },
  {
   "cell_type": "code",
   "execution_count": 207,
   "metadata": {},
   "outputs": [],
   "source": [
    "def peliculas_duracion( Pelicula: str ):\n",
    "    '''\n",
    "     Se ingresa una pelicula. Debe devolver la duracion y el año.\n",
    "        Ejemplo de retorno: X . Duración: x. Año: x\n",
    "    '''\n",
    "    pelicula = df[df[\"title\"]== Pelicula].iloc[0]\n",
    "    duracion = pelicula[\"runtime\"]\n",
    "    anio = pelicula[\"release_year\"]\n",
    "    return {f\"{Pelicula}. Duracion: {duracion} Año: {anio}\"}"
   ]
  },
  {
   "cell_type": "code",
   "execution_count": 208,
   "metadata": {},
   "outputs": [
    {
     "data": {
      "text/plain": [
       "{'Jumanji. Duracion: 104.0 Año: 1995'}"
      ]
     },
     "execution_count": 208,
     "metadata": {},
     "output_type": "execute_result"
    }
   ],
   "source": [
    "peliculas_duracion(\"Jumanji\")"
   ]
  },
  {
   "cell_type": "markdown",
   "metadata": {},
   "source": [
    "--------------\n",
    "3) def **franquicia( *`Franquicia`: str* )**:\n",
    "    Se ingresa la franquicia, retornando la cantidad de peliculas, ganancia total y promedio\n",
    "    \n",
    "&nbsp;&nbsp;&nbsp;&nbsp;&nbsp;&nbsp;&nbsp;&nbsp;&nbsp;&nbsp;&nbsp;&nbsp;&nbsp;&nbsp;&nbsp;&nbsp;&nbsp;&nbsp;&nbsp;&nbsp;Ejemplo de retorno: *La franquicia `X` posee `X` peliculas, una ganancia total de `x` y una ganancia promedio de `xx`*"
   ]
  },
  {
   "cell_type": "code",
   "execution_count": 209,
   "metadata": {},
   "outputs": [],
   "source": [
    "def franquicia( Franquicia: str ):\n",
    "    '''\n",
    "     Se ingresa la franquicia, retornando la cantidad de peliculas, ganancia total y promedio\n",
    "        Ejemplo de retorno: La franquicia X posee X peliculas, una ganancia total de x y una ganancia\n",
    "    '''\n",
    "    valor_encontrado = df[df['belongs_to_collection_name']==Franquicia]\n",
    "    series = len(valor_encontrado)\n",
    "    total = valor_encontrado['return'].sum()\n",
    "    promedio = valor_encontrado['return'].mean()\n",
    "\n",
    "    return {f\"Franquicia: {Franquicia} Cantidad de Películas: {series} Ganancias Totales: {total} Promedio de las Ganancias: {promedio}\"}"
   ]
  },
  {
   "cell_type": "code",
   "execution_count": 210,
   "metadata": {},
   "outputs": [
    {
     "data": {
      "text/plain": [
       "{'Franquicia: Toy Story Collection\\nCantidad de Películas: 3\\nGanancias Totales: 23.312948159444446\\nPromedio de las Ganancias: 7.770982719814815'}"
      ]
     },
     "execution_count": 210,
     "metadata": {},
     "output_type": "execute_result"
    }
   ],
   "source": [
    "franquicia(\"Toy Story Collection\")"
   ]
  },
  {
   "cell_type": "markdown",
   "metadata": {},
   "source": [
    "-------------\n",
    "4) def **peliculas_pais( *`Pais`: str* )**:\n",
    "    Se ingresa un país (como están escritos en el dataset, no hay que traducirlos!), retornando la cantidad de peliculas producidas en el mismo.\n",
    "    \n",
    "&nbsp;&nbsp;&nbsp;&nbsp;&nbsp;&nbsp;&nbsp;&nbsp;&nbsp;&nbsp;&nbsp;&nbsp;&nbsp;&nbsp;&nbsp;&nbsp;&nbsp;&nbsp;&nbsp;&nbsp;Ejemplo de retorno: *Se produjeron `X` películas en el país `X`*"
   ]
  },
  {
   "cell_type": "code",
   "execution_count": 211,
   "metadata": {},
   "outputs": [],
   "source": [
    "def peliculas_pais(Pais: str):\n",
    "    peliculas_por_pais = df[df['production_countries'].str.contains(Pais,na=False,case=False)]\n",
    "    cantidad_peliculas = len(peliculas_por_pais)\n",
    "    \n",
    "    return {f\"Se produjeron {cantidad_peliculas} películas en el país {Pais}\"}"
   ]
  },
  {
   "cell_type": "code",
   "execution_count": 212,
   "metadata": {},
   "outputs": [
    {
     "data": {
      "text/plain": [
       "{'Se produjeron 83 películas en el país Philippines'}"
      ]
     },
     "execution_count": 212,
     "metadata": {},
     "output_type": "execute_result"
    }
   ],
   "source": [
    "peliculas_pais(\"Philippines\")"
   ]
  },
  {
   "cell_type": "code",
   "execution_count": 213,
   "metadata": {},
   "outputs": [
    {
     "data": {
      "text/plain": [
       "{'Se produjeron 21176 películas en el país United States of America'}"
      ]
     },
     "execution_count": 213,
     "metadata": {},
     "output_type": "execute_result"
    }
   ],
   "source": [
    "peliculas_pais(\"United States of America\")"
   ]
  },
  {
   "cell_type": "markdown",
   "metadata": {},
   "source": [
    "------------\n",
    "5) def **productoras_exitosas( *`Productora`: str* )**:\n",
    "    Se ingresa la productora, entregandote el revunue total y la cantidad de peliculas que realizo. \n",
    "    \n",
    "&nbsp;&nbsp;&nbsp;&nbsp;&nbsp;&nbsp;&nbsp;&nbsp;&nbsp;&nbsp;&nbsp;&nbsp;&nbsp;&nbsp;&nbsp;&nbsp;&nbsp;&nbsp;&nbsp;&nbsp;Ejemplo de retorno: *La productora `X` ha tenido un revenue de `x`*"
   ]
  },
  {
   "cell_type": "code",
   "execution_count": 214,
   "metadata": {},
   "outputs": [],
   "source": [
    "def productoras_exitosas(Productora: str):\n",
    "    # Filtrar las filas del DataFrame donde la productora está presente en la columna 'production_companies'\n",
    "    peliculas_por_productora = df[df['production_companies'].str.contains(Productora)]\n",
    "    \n",
    "    # Calcular el total de revenue y la cantidad de películas realizadas por la productora\n",
    "    total_revenue = peliculas_por_productora['revenue'].sum()\n",
    "    cantidad_peliculas = len(peliculas_por_productora)\n",
    "    \n",
    "    return {f\"La productora {Productora} ha tenido un revenue de {total_revenue} y ha realizado {cantidad_peliculas} películas\"}"
   ]
  },
  {
   "cell_type": "code",
   "execution_count": 215,
   "metadata": {},
   "outputs": [
    {
     "data": {
      "text/plain": [
       "{'La productora Lancaster Gate ha tenido un revenue de 0.0 y ha realizado 2 películas'}"
      ]
     },
     "execution_count": 215,
     "metadata": {},
     "output_type": "execute_result"
    }
   ],
   "source": [
    "productoras_exitosas(\"Lancaster Gate\")"
   ]
  },
  {
   "cell_type": "code",
   "execution_count": 216,
   "metadata": {},
   "outputs": [
    {
     "data": {
      "text/plain": [
       "{'La productora Warner Bros ha tenido un revenue de 67156995259.0 y ha realizado 1374 películas'}"
      ]
     },
     "execution_count": 216,
     "metadata": {},
     "output_type": "execute_result"
    }
   ],
   "source": [
    "productoras_exitosas(\"Warner Bros\")"
   ]
  },
  {
   "cell_type": "markdown",
   "metadata": {},
   "source": [
    "-------------\n",
    "6) def **get_director( *`nombre_director`* )**:\n",
    "    Se ingresa el nombre de un director que se encuentre dentro de un dataset debiendo devolver el éxito del mismo medido a través del retorno. Además, deberá devolver el nombre de cada película con la fecha de lanzamiento, retorno individual, costo y ganancia de la misma, en formato lista."
   ]
  },
  {
   "cell_type": "code",
   "execution_count": 217,
   "metadata": {},
   "outputs": [],
   "source": [
    "def get_director(nombre_director):\n",
    "    director_movies = df[df['director'] == nombre_director]\n",
    "    \n",
    "    if director_movies.empty:\n",
    "        return \"Director no encontrado en el dataset.\"\n",
    "    \n",
    "    success_info = []\n",
    "    \n",
    "    for index, row in director_movies.iterrows():\n",
    "        movie_info = {\n",
    "            'title': row['title'],\n",
    "            'release_date': row['release_date'],\n",
    "            'revenue': row['revenue'],\n",
    "            'budget': row['budget'],\n",
    "            'profit': row['revenue'] - row['budget']\n",
    "        }\n",
    "        \n",
    "        success_info.append(movie_info)\n",
    "    \n",
    "    return success_info"
   ]
  },
  {
   "cell_type": "code",
   "execution_count": 218,
   "metadata": {},
   "outputs": [
    {
     "name": "stdout",
     "output_type": "stream",
     "text": [
      "[{'title': 'Waiting to Exhale', 'release_date': '1995-12-22', 'revenue': 81452156.0, 'budget': 16000000, 'profit': 65452156.0}, {'title': 'Hope Floats', 'release_date': '1998-05-29', 'revenue': 0.0, 'budget': 0, 'profit': 0.0}, {'title': 'First Daughter', 'release_date': '2004-09-24', 'revenue': 0.0, 'budget': 30000000, 'profit': -30000000.0}, {'title': 'Strapped', 'release_date': '1993-08-21', 'revenue': 0.0, 'budget': 0, 'profit': 0.0}]\n"
     ]
    }
   ],
   "source": [
    "print(get_director('Forest Whitaker'))"
   ]
  },
  {
   "cell_type": "code",
   "execution_count": null,
   "metadata": {},
   "outputs": [],
   "source": []
  }
 ],
 "metadata": {
  "kernelspec": {
   "display_name": "Python 3",
   "language": "python",
   "name": "python3"
  },
  "language_info": {
   "codemirror_mode": {
    "name": "ipython",
    "version": 3
   },
   "file_extension": ".py",
   "mimetype": "text/x-python",
   "name": "python",
   "nbconvert_exporter": "python",
   "pygments_lexer": "ipython3",
   "version": "3.10.12"
  },
  "orig_nbformat": 4
 },
 "nbformat": 4,
 "nbformat_minor": 2
}
