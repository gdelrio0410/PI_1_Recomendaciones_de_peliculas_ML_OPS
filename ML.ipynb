{
 "cells": [
  {
   "cell_type": "markdown",
   "metadata": {},
   "source": [
    "# Machine Learning\n",
    "---------------"
   ]
  },
  {
   "cell_type": "code",
   "execution_count": 2,
   "metadata": {},
   "outputs": [],
   "source": [
    "import pandas as pd\n",
    "import numpy as np\n",
    "import ast"
   ]
  },
  {
   "cell_type": "code",
   "execution_count": 3,
   "metadata": {},
   "outputs": [],
   "source": [
    "df = pd.read_csv(\"movies_transformado.csv\")"
   ]
  },
  {
   "cell_type": "code",
   "execution_count": 4,
   "metadata": {},
   "outputs": [],
   "source": [
    "# Función para transformar las cadenas en el typo de dato correspondiente\n",
    "def transformar_cadena(cadena):\n",
    "    try:\n",
    "        return ast.literal_eval(cadena)\n",
    "    except (ValueError, SyntaxError):\n",
    "        return cadena"
   ]
  },
  {
   "cell_type": "code",
   "execution_count": 5,
   "metadata": {},
   "outputs": [],
   "source": [
    "lista_columnas = df.columns.tolist()\n",
    "for columna in lista_columnas:\n",
    "    df[columna] = df[columna].apply(transformar_cadena)"
   ]
  },
  {
   "cell_type": "code",
   "execution_count": 6,
   "metadata": {},
   "outputs": [],
   "source": [
    "# Ordenamos por vote_average y tomamos las primeras 5500 filas\n",
    "df_vote_average = df.sort_values(by='vote_average', ascending=False).head(5500).reset_index(drop=True)"
   ]
  },
  {
   "cell_type": "code",
   "execution_count": 7,
   "metadata": {},
   "outputs": [
    {
     "name": "stdout",
     "output_type": "stream",
     "text": [
      "df_vote_average:  (5500, 21)\n"
     ]
    }
   ],
   "source": [
    "print(\"df_vote_average: \",df_vote_average.shape)"
   ]
  },
  {
   "cell_type": "code",
   "execution_count": 8,
   "metadata": {},
   "outputs": [],
   "source": [
    "# Aseguramos que los datos de la columna 'overview', 'genres' y 'production_companies' sean strings\n",
    "df_vote_average['overview'] = df_vote_average['overview'].fillna('').astype('str')\n",
    "df_vote_average['genres'] = df_vote_average['genres'].apply(lambda x: ' '.join(map(str, x)) if isinstance(x, list) else '')\n",
    "df_vote_average['production_companies'] = df_vote_average['production_companies'].apply(lambda x: ' '.join(map(str, x)) if isinstance(x, list) else x)"
   ]
  },
  {
   "cell_type": "code",
   "execution_count": 9,
   "metadata": {},
   "outputs": [],
   "source": [
    "# Reemplazar los valores nulos con cadenas vacias\n",
    "df_vote_average['production_companies'] = df_vote_average['production_companies'].fillna('')"
   ]
  },
  {
   "cell_type": "code",
   "execution_count": 10,
   "metadata": {},
   "outputs": [],
   "source": [
    "# Creamos una nueva columna llamada 'combined_features' que es una combinacion de las columnas 'overview', 'genres' y \n",
    "# 'production_companies'. Esta columna se usara para calcular la similitud entre diferentes peliculas.\n",
    "df_vote_average['combined_features'] = df_vote_average['overview'] + ' ' + df_vote_average['genres'] + ' ' + df_vote_average['production_companies']\n",
    "\n",
    "# Convertimos todos los textos a minusculas para evitar duplicados\n",
    "df_vote_average['combined_features'] = df_vote_average['combined_features'].str.lower()\n",
    "\n"
   ]
  },
  {
   "cell_type": "code",
   "execution_count": 25,
   "metadata": {},
   "outputs": [],
   "source": [
    "# El HashingVectorizer que nos ayudara a convertir texto en vectores numéricos\n",
    "from sklearn.feature_extraction.text import HashingVectorizer\n",
    "hash_vectorizer = HashingVectorizer(stop_words='english', n_features=4000)"
   ]
  },
  {
   "cell_type": "code",
   "execution_count": 12,
   "metadata": {},
   "outputs": [],
   "source": [
    "# Aprende el vocabulario de 'combined_features' y transforma 'combined_features' en una matriz de vectores\n",
    "hash_matrix = hash_vectorizer.fit_transform(df_vote_average['combined_features'])"
   ]
  },
  {
   "cell_type": "code",
   "execution_count": 13,
   "metadata": {},
   "outputs": [
    {
     "data": {
      "text/plain": [
       "(5500, 22)"
      ]
     },
     "execution_count": 13,
     "metadata": {},
     "output_type": "execute_result"
    }
   ],
   "source": [
    "df_vote_average.shape"
   ]
  },
  {
   "cell_type": "code",
   "execution_count": 14,
   "metadata": {},
   "outputs": [],
   "source": [
    "df_vote_average.to_csv('movies_final.csv', index=False)"
   ]
  },
  {
   "cell_type": "code",
   "execution_count": 15,
   "metadata": {},
   "outputs": [],
   "source": [
    "# convertir texto en datos numéricos\n",
    "from sklearn.feature_extraction.text import CountVectorizer \n",
    "# una clase que se utiliza para encontrar los vecinos más cercanos a un conjunto de puntos en un espacio multidimensional.\n",
    "from sklearn.neighbors import NearestNeighbors \n",
    "\n",
    "df_movie_final= pd.read_csv('movies_final.csv')"
   ]
  },
  {
   "cell_type": "code",
   "execution_count": 16,
   "metadata": {},
   "outputs": [],
   "source": [
    "\n",
    "# Crea un vector con la spalabras mas utilizadas\n",
    "cv = CountVectorizer(stop_words='english', max_features=6000) \n",
    "# Transformar los datos de texto en una matriz\n",
    "count_matrix = cv.fit_transform(df_movie_final['combined_features'])"
   ]
  },
  {
   "cell_type": "code",
   "execution_count": 17,
   "metadata": {},
   "outputs": [],
   "source": [
    "# Creamos un modelo para encontrar los vecinos mas cercanos en un espacio de caracterisicaa\n",
    "#utilizando la métrica de distancia del coseno\n",
    "nn = NearestNeighbors(metric='cosine', algorithm='auto')\n",
    "nn.fit(count_matrix)\n",
    "\n",
    "# Creamos un indice de titulos de peliculas y eliminamos los duplicados\n",
    "indices = pd.Series(df_vote_average.index, index=df_movie_final['title']).drop_duplicates()"
   ]
  },
  {
   "cell_type": "code",
   "execution_count": 18,
   "metadata": {},
   "outputs": [
    {
     "name": "stdout",
     "output_type": "stream",
     "text": [
      "['Toy Story 3', 'Приключения Домовёнка', 'Lou', 'Partysaurus Rex', \"Geri's Game\"]\n",
      "['OSS 117: Mission for a Killer', 'Cocaine Cowboys: Reloaded', 'Cocaine Cowboys', 'Extraordinary Mission', 'Scarface']\n",
      "['Dead Times', 'Daddy', 'Wolf Children', 'Ahí está el detalle', 'Dumbland']\n",
      "La pelicula no se encuentra en el data set\n"
     ]
    }
   ],
   "source": [
    "def recomendacion(title):\n",
    "    if title not in df_movie_final['title'].values:\n",
    "        return 'La pelicula no se encuentra en el data set'\n",
    "    else:\n",
    "        index = indices[title]\n",
    "        # Encuentra los 6 vecinos más cercanos al punto de consulta especificado utilizando el modelo de vecinos más cercanos que se creó previamente.\n",
    "        distances, indices_knn = nn.kneighbors(count_matrix[index], n_neighbors=6)\n",
    "        # lista de índices que representan las películas recomendadas\n",
    "        movie_indices = indices_knn[0][1:]\n",
    "        # Devuelve las 5 peliculas mas cercanas\n",
    "        return df_movie_final['title'].iloc[movie_indices].tolist()\n",
    "\n",
    "print(recomendacion('Toy Story'))\n",
    "print(recomendacion('Scarface'))\n",
    "print(recomendacion('Redemption'))\n",
    "print(recomendacion('Jumanji'))"
   ]
  },
  {
   "cell_type": "code",
   "execution_count": null,
   "metadata": {},
   "outputs": [],
   "source": []
  }
 ],
 "metadata": {
  "kernelspec": {
   "display_name": "Python 3",
   "language": "python",
   "name": "python3"
  },
  "language_info": {
   "codemirror_mode": {
    "name": "ipython",
    "version": 3
   },
   "file_extension": ".py",
   "mimetype": "text/x-python",
   "name": "python",
   "nbconvert_exporter": "python",
   "pygments_lexer": "ipython3",
   "version": "3.10.12"
  },
  "orig_nbformat": 4
 },
 "nbformat": 4,
 "nbformat_minor": 2
}
